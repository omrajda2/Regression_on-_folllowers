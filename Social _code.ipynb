{
 "cells": [
  {
   "cell_type": "code",
   "execution_count": 30,
   "metadata": {},
   "outputs": [],
   "source": [
    "import pandas as pd"
   ]
  },
  {
   "cell_type": "code",
   "execution_count": 31,
   "metadata": {},
   "outputs": [],
   "source": [
    "data = pd.read_csv('/home/omraj/Downloads/Social.csv')\n",
    "temp=data"
   ]
  },
  {
   "cell_type": "code",
   "execution_count": 32,
   "metadata": {},
   "outputs": [],
   "source": [
    "#data.head(5)"
   ]
  },
  {
   "cell_type": "code",
   "execution_count": 33,
   "metadata": {},
   "outputs": [],
   "source": [
    "#data.columns"
   ]
  },
  {
   "cell_type": "code",
   "execution_count": 34,
   "metadata": {},
   "outputs": [],
   "source": [
    "newdata = data[['name','country','data_properties.facebook_followers','data_properties.instagram_followers','data_properties.twitter_followers','data_properties.ppp_country']]"
   ]
  },
  {
   "cell_type": "code",
   "execution_count": 35,
   "metadata": {},
   "outputs": [
    {
     "data": {
      "text/html": [
       "<div>\n",
       "<style scoped>\n",
       "    .dataframe tbody tr th:only-of-type {\n",
       "        vertical-align: middle;\n",
       "    }\n",
       "\n",
       "    .dataframe tbody tr th {\n",
       "        vertical-align: top;\n",
       "    }\n",
       "\n",
       "    .dataframe thead th {\n",
       "        text-align: right;\n",
       "    }\n",
       "</style>\n",
       "<table border=\"1\" class=\"dataframe\">\n",
       "  <thead>\n",
       "    <tr style=\"text-align: right;\">\n",
       "      <th></th>\n",
       "      <th>name</th>\n",
       "      <th>country</th>\n",
       "      <th>data_properties.facebook_followers</th>\n",
       "      <th>data_properties.instagram_followers</th>\n",
       "      <th>data_properties.twitter_followers</th>\n",
       "      <th>data_properties.ppp_country</th>\n",
       "    </tr>\n",
       "  </thead>\n",
       "  <tbody>\n",
       "    <tr>\n",
       "      <th>0</th>\n",
       "      <td>Exeter City F.C.</td>\n",
       "      <td>United Kingdom</td>\n",
       "      <td>47636</td>\n",
       "      <td>10836</td>\n",
       "      <td>57518</td>\n",
       "      <td>42609</td>\n",
       "    </tr>\n",
       "    <tr>\n",
       "      <th>1</th>\n",
       "      <td>Columbus Crew SC</td>\n",
       "      <td>United States</td>\n",
       "      <td>0</td>\n",
       "      <td>0</td>\n",
       "      <td>161302</td>\n",
       "      <td>57467</td>\n",
       "    </tr>\n",
       "    <tr>\n",
       "      <th>2</th>\n",
       "      <td>Chelsea L.F.C.</td>\n",
       "      <td>United Kingdom</td>\n",
       "      <td>2509088</td>\n",
       "      <td>574057</td>\n",
       "      <td>151333</td>\n",
       "      <td>42609</td>\n",
       "    </tr>\n",
       "    <tr>\n",
       "      <th>3</th>\n",
       "      <td>Newport County</td>\n",
       "      <td>United Kingdom</td>\n",
       "      <td>46268</td>\n",
       "      <td>4560</td>\n",
       "      <td>52980</td>\n",
       "      <td>42609</td>\n",
       "    </tr>\n",
       "    <tr>\n",
       "      <th>4</th>\n",
       "      <td>Chicago Fire</td>\n",
       "      <td>United States</td>\n",
       "      <td>330064</td>\n",
       "      <td>75019</td>\n",
       "      <td>158313</td>\n",
       "      <td>57467</td>\n",
       "    </tr>\n",
       "    <tr>\n",
       "      <th>5</th>\n",
       "      <td>FC Dallas</td>\n",
       "      <td>United States</td>\n",
       "      <td>372754</td>\n",
       "      <td>67761</td>\n",
       "      <td>155375</td>\n",
       "      <td>57467</td>\n",
       "    </tr>\n",
       "    <tr>\n",
       "      <th>6</th>\n",
       "      <td>Real Salt Lake</td>\n",
       "      <td>United States</td>\n",
       "      <td>0</td>\n",
       "      <td>70184</td>\n",
       "      <td>150993</td>\n",
       "      <td>57467</td>\n",
       "    </tr>\n",
       "    <tr>\n",
       "      <th>7</th>\n",
       "      <td>BC LIONS</td>\n",
       "      <td>Canada</td>\n",
       "      <td>162165</td>\n",
       "      <td>32607</td>\n",
       "      <td>125365</td>\n",
       "      <td>44025</td>\n",
       "    </tr>\n",
       "    <tr>\n",
       "      <th>8</th>\n",
       "      <td>Team Penske</td>\n",
       "      <td>NaN</td>\n",
       "      <td>206834</td>\n",
       "      <td>75733</td>\n",
       "      <td>147780</td>\n",
       "      <td>44025</td>\n",
       "    </tr>\n",
       "    <tr>\n",
       "      <th>9</th>\n",
       "      <td>Welsh Open</td>\n",
       "      <td>United Kingdom</td>\n",
       "      <td>412351</td>\n",
       "      <td>0</td>\n",
       "      <td>121407</td>\n",
       "      <td>42609</td>\n",
       "    </tr>\n",
       "    <tr>\n",
       "      <th>10</th>\n",
       "      <td>Leicester Tigers</td>\n",
       "      <td>United Kingdom</td>\n",
       "      <td>201454</td>\n",
       "      <td>72152</td>\n",
       "      <td>142470</td>\n",
       "      <td>42609</td>\n",
       "    </tr>\n",
       "    <tr>\n",
       "      <th>11</th>\n",
       "      <td>Immortals</td>\n",
       "      <td>NaN</td>\n",
       "      <td>160231</td>\n",
       "      <td>93439</td>\n",
       "      <td>136913</td>\n",
       "      <td>42609</td>\n",
       "    </tr>\n",
       "    <tr>\n",
       "      <th>12</th>\n",
       "      <td>Doncaster Rovers FC</td>\n",
       "      <td>United Kingdom</td>\n",
       "      <td>134651</td>\n",
       "      <td>11906</td>\n",
       "      <td>136578</td>\n",
       "      <td>42609</td>\n",
       "    </tr>\n",
       "    <tr>\n",
       "      <th>13</th>\n",
       "      <td>Charlton Athletic FC</td>\n",
       "      <td>United Kingdom</td>\n",
       "      <td>201423</td>\n",
       "      <td>22121</td>\n",
       "      <td>134286</td>\n",
       "      <td>42609</td>\n",
       "    </tr>\n",
       "    <tr>\n",
       "      <th>14</th>\n",
       "      <td>Ireland cricket</td>\n",
       "      <td>United Kingdom</td>\n",
       "      <td>570170</td>\n",
       "      <td>16327</td>\n",
       "      <td>132626</td>\n",
       "      <td>42609</td>\n",
       "    </tr>\n",
       "  </tbody>\n",
       "</table>\n",
       "</div>"
      ],
      "text/plain": [
       "                    name         country  data_properties.facebook_followers  \\\n",
       "0       Exeter City F.C.  United Kingdom                               47636   \n",
       "1       Columbus Crew SC   United States                                   0   \n",
       "2         Chelsea L.F.C.  United Kingdom                             2509088   \n",
       "3         Newport County  United Kingdom                               46268   \n",
       "4           Chicago Fire   United States                              330064   \n",
       "5              FC Dallas   United States                              372754   \n",
       "6         Real Salt Lake   United States                                   0   \n",
       "7               BC LIONS          Canada                              162165   \n",
       "8            Team Penske             NaN                              206834   \n",
       "9             Welsh Open  United Kingdom                              412351   \n",
       "10      Leicester Tigers  United Kingdom                              201454   \n",
       "11             Immortals             NaN                              160231   \n",
       "12   Doncaster Rovers FC  United Kingdom                              134651   \n",
       "13  Charlton Athletic FC  United Kingdom                              201423   \n",
       "14       Ireland cricket  United Kingdom                              570170   \n",
       "\n",
       "    data_properties.instagram_followers  data_properties.twitter_followers  \\\n",
       "0                                 10836                              57518   \n",
       "1                                     0                             161302   \n",
       "2                                574057                             151333   \n",
       "3                                  4560                              52980   \n",
       "4                                 75019                             158313   \n",
       "5                                 67761                             155375   \n",
       "6                                 70184                             150993   \n",
       "7                                 32607                             125365   \n",
       "8                                 75733                             147780   \n",
       "9                                     0                             121407   \n",
       "10                                72152                             142470   \n",
       "11                                93439                             136913   \n",
       "12                                11906                             136578   \n",
       "13                                22121                             134286   \n",
       "14                                16327                             132626   \n",
       "\n",
       "    data_properties.ppp_country  \n",
       "0                         42609  \n",
       "1                         57467  \n",
       "2                         42609  \n",
       "3                         42609  \n",
       "4                         57467  \n",
       "5                         57467  \n",
       "6                         57467  \n",
       "7                         44025  \n",
       "8                         44025  \n",
       "9                         42609  \n",
       "10                        42609  \n",
       "11                        42609  \n",
       "12                        42609  \n",
       "13                        42609  \n",
       "14                        42609  "
      ]
     },
     "execution_count": 35,
     "metadata": {},
     "output_type": "execute_result"
    }
   ],
   "source": [
    "newdata.head(15)"
   ]
  },
  {
   "cell_type": "code",
   "execution_count": 36,
   "metadata": {},
   "outputs": [],
   "source": [
    "new = newdata[~(newdata == 0).any(axis=1)]"
   ]
  },
  {
   "cell_type": "code",
   "execution_count": 37,
   "metadata": {},
   "outputs": [
    {
     "data": {
      "text/html": [
       "<div>\n",
       "<style scoped>\n",
       "    .dataframe tbody tr th:only-of-type {\n",
       "        vertical-align: middle;\n",
       "    }\n",
       "\n",
       "    .dataframe tbody tr th {\n",
       "        vertical-align: top;\n",
       "    }\n",
       "\n",
       "    .dataframe thead th {\n",
       "        text-align: right;\n",
       "    }\n",
       "</style>\n",
       "<table border=\"1\" class=\"dataframe\">\n",
       "  <thead>\n",
       "    <tr style=\"text-align: right;\">\n",
       "      <th></th>\n",
       "      <th>name</th>\n",
       "      <th>country</th>\n",
       "      <th>data_properties.facebook_followers</th>\n",
       "      <th>data_properties.instagram_followers</th>\n",
       "      <th>data_properties.twitter_followers</th>\n",
       "      <th>data_properties.ppp_country</th>\n",
       "    </tr>\n",
       "  </thead>\n",
       "  <tbody>\n",
       "    <tr>\n",
       "      <th>0</th>\n",
       "      <td>Exeter City F.C.</td>\n",
       "      <td>United Kingdom</td>\n",
       "      <td>47636</td>\n",
       "      <td>10836</td>\n",
       "      <td>57518</td>\n",
       "      <td>42609</td>\n",
       "    </tr>\n",
       "    <tr>\n",
       "      <th>2</th>\n",
       "      <td>Chelsea L.F.C.</td>\n",
       "      <td>United Kingdom</td>\n",
       "      <td>2509088</td>\n",
       "      <td>574057</td>\n",
       "      <td>151333</td>\n",
       "      <td>42609</td>\n",
       "    </tr>\n",
       "    <tr>\n",
       "      <th>3</th>\n",
       "      <td>Newport County</td>\n",
       "      <td>United Kingdom</td>\n",
       "      <td>46268</td>\n",
       "      <td>4560</td>\n",
       "      <td>52980</td>\n",
       "      <td>42609</td>\n",
       "    </tr>\n",
       "    <tr>\n",
       "      <th>4</th>\n",
       "      <td>Chicago Fire</td>\n",
       "      <td>United States</td>\n",
       "      <td>330064</td>\n",
       "      <td>75019</td>\n",
       "      <td>158313</td>\n",
       "      <td>57467</td>\n",
       "    </tr>\n",
       "    <tr>\n",
       "      <th>5</th>\n",
       "      <td>FC Dallas</td>\n",
       "      <td>United States</td>\n",
       "      <td>372754</td>\n",
       "      <td>67761</td>\n",
       "      <td>155375</td>\n",
       "      <td>57467</td>\n",
       "    </tr>\n",
       "  </tbody>\n",
       "</table>\n",
       "</div>"
      ],
      "text/plain": [
       "               name         country  data_properties.facebook_followers  \\\n",
       "0  Exeter City F.C.  United Kingdom                               47636   \n",
       "2    Chelsea L.F.C.  United Kingdom                             2509088   \n",
       "3    Newport County  United Kingdom                               46268   \n",
       "4      Chicago Fire   United States                              330064   \n",
       "5         FC Dallas   United States                              372754   \n",
       "\n",
       "   data_properties.instagram_followers  data_properties.twitter_followers  \\\n",
       "0                                10836                              57518   \n",
       "2                               574057                             151333   \n",
       "3                                 4560                              52980   \n",
       "4                                75019                             158313   \n",
       "5                                67761                             155375   \n",
       "\n",
       "   data_properties.ppp_country  \n",
       "0                        42609  \n",
       "2                        42609  \n",
       "3                        42609  \n",
       "4                        57467  \n",
       "5                        57467  "
      ]
     },
     "execution_count": 37,
     "metadata": {},
     "output_type": "execute_result"
    }
   ],
   "source": [
    "new.head()"
   ]
  },
  {
   "cell_type": "code",
   "execution_count": 38,
   "metadata": {},
   "outputs": [
    {
     "data": {
      "text/plain": [
       "name                                   0\n",
       "country                                9\n",
       "data_properties.facebook_followers     0\n",
       "data_properties.instagram_followers    0\n",
       "data_properties.twitter_followers      0\n",
       "data_properties.ppp_country            0\n",
       "dtype: int64"
      ]
     },
     "execution_count": 38,
     "metadata": {},
     "output_type": "execute_result"
    }
   ],
   "source": [
    "new.isnull().sum()"
   ]
  },
  {
   "cell_type": "code",
   "execution_count": 39,
   "metadata": {},
   "outputs": [
    {
     "name": "stderr",
     "output_type": "stream",
     "text": [
      "/home/omraj/.local/lib/python3.5/site-packages/pandas/core/generic.py:4355: SettingWithCopyWarning: \n",
      "A value is trying to be set on a copy of a slice from a DataFrame\n",
      "\n",
      "See the caveats in the documentation: http://pandas.pydata.org/pandas-docs/stable/indexing.html#indexing-view-versus-copy\n",
      "  self._update_inplace(new_data)\n"
     ]
    }
   ],
   "source": [
    "new.country.fillna('unknown',inplace = True)"
   ]
  },
  {
   "cell_type": "code",
   "execution_count": 40,
   "metadata": {},
   "outputs": [
    {
     "data": {
      "text/plain": [
       "name                                   0\n",
       "country                                0\n",
       "data_properties.facebook_followers     0\n",
       "data_properties.instagram_followers    0\n",
       "data_properties.twitter_followers      0\n",
       "data_properties.ppp_country            0\n",
       "dtype: int64"
      ]
     },
     "execution_count": 40,
     "metadata": {},
     "output_type": "execute_result"
    }
   ],
   "source": [
    "new.isnull().sum()"
   ]
  },
  {
   "cell_type": "code",
   "execution_count": 41,
   "metadata": {},
   "outputs": [],
   "source": [
    "ndata = new.rename(columns={'data_properties.facebook_followers': 'fb_followers','data_properties.instagram_followers': 'insta_followers','data_properties.twitter_followers':'twitter_followers','data_properties.ppp_country':'ppp_country'})"
   ]
  },
  {
   "cell_type": "code",
   "execution_count": 42,
   "metadata": {},
   "outputs": [
    {
     "data": {
      "text/html": [
       "<div>\n",
       "<style scoped>\n",
       "    .dataframe tbody tr th:only-of-type {\n",
       "        vertical-align: middle;\n",
       "    }\n",
       "\n",
       "    .dataframe tbody tr th {\n",
       "        vertical-align: top;\n",
       "    }\n",
       "\n",
       "    .dataframe thead th {\n",
       "        text-align: right;\n",
       "    }\n",
       "</style>\n",
       "<table border=\"1\" class=\"dataframe\">\n",
       "  <thead>\n",
       "    <tr style=\"text-align: right;\">\n",
       "      <th></th>\n",
       "      <th>name</th>\n",
       "      <th>country</th>\n",
       "      <th>fb_followers</th>\n",
       "      <th>insta_followers</th>\n",
       "      <th>twitter_followers</th>\n",
       "      <th>ppp_country</th>\n",
       "    </tr>\n",
       "  </thead>\n",
       "  <tbody>\n",
       "    <tr>\n",
       "      <th>0</th>\n",
       "      <td>Exeter City F.C.</td>\n",
       "      <td>United Kingdom</td>\n",
       "      <td>47636</td>\n",
       "      <td>10836</td>\n",
       "      <td>57518</td>\n",
       "      <td>42609</td>\n",
       "    </tr>\n",
       "    <tr>\n",
       "      <th>2</th>\n",
       "      <td>Chelsea L.F.C.</td>\n",
       "      <td>United Kingdom</td>\n",
       "      <td>2509088</td>\n",
       "      <td>574057</td>\n",
       "      <td>151333</td>\n",
       "      <td>42609</td>\n",
       "    </tr>\n",
       "    <tr>\n",
       "      <th>3</th>\n",
       "      <td>Newport County</td>\n",
       "      <td>United Kingdom</td>\n",
       "      <td>46268</td>\n",
       "      <td>4560</td>\n",
       "      <td>52980</td>\n",
       "      <td>42609</td>\n",
       "    </tr>\n",
       "    <tr>\n",
       "      <th>4</th>\n",
       "      <td>Chicago Fire</td>\n",
       "      <td>United States</td>\n",
       "      <td>330064</td>\n",
       "      <td>75019</td>\n",
       "      <td>158313</td>\n",
       "      <td>57467</td>\n",
       "    </tr>\n",
       "    <tr>\n",
       "      <th>5</th>\n",
       "      <td>FC Dallas</td>\n",
       "      <td>United States</td>\n",
       "      <td>372754</td>\n",
       "      <td>67761</td>\n",
       "      <td>155375</td>\n",
       "      <td>57467</td>\n",
       "    </tr>\n",
       "  </tbody>\n",
       "</table>\n",
       "</div>"
      ],
      "text/plain": [
       "               name         country  fb_followers  insta_followers  \\\n",
       "0  Exeter City F.C.  United Kingdom         47636            10836   \n",
       "2    Chelsea L.F.C.  United Kingdom       2509088           574057   \n",
       "3    Newport County  United Kingdom         46268             4560   \n",
       "4      Chicago Fire   United States        330064            75019   \n",
       "5         FC Dallas   United States        372754            67761   \n",
       "\n",
       "   twitter_followers  ppp_country  \n",
       "0              57518        42609  \n",
       "2             151333        42609  \n",
       "3              52980        42609  \n",
       "4             158313        57467  \n",
       "5             155375        57467  "
      ]
     },
     "execution_count": 42,
     "metadata": {},
     "output_type": "execute_result"
    }
   ],
   "source": [
    "ndata.head(5)"
   ]
  },
  {
   "cell_type": "code",
   "execution_count": 128,
   "metadata": {},
   "outputs": [],
   "source": [
    "from sklearn import linear_model\n",
    "import numpy as np\n",
    "from sklearn.cross_validation import train_test_split\n",
    "from sklearn.linear_model import LinearRegression\n",
    "from sklearn import metrics\n",
    "import matplotlib.pyplot as plt"
   ]
  },
  {
   "cell_type": "code",
   "execution_count": 129,
   "metadata": {},
   "outputs": [
    {
     "data": {
      "text/html": [
       "<div>\n",
       "<style scoped>\n",
       "    .dataframe tbody tr th:only-of-type {\n",
       "        vertical-align: middle;\n",
       "    }\n",
       "\n",
       "    .dataframe tbody tr th {\n",
       "        vertical-align: top;\n",
       "    }\n",
       "\n",
       "    .dataframe thead th {\n",
       "        text-align: right;\n",
       "    }\n",
       "</style>\n",
       "<table border=\"1\" class=\"dataframe\">\n",
       "  <thead>\n",
       "    <tr style=\"text-align: right;\">\n",
       "      <th></th>\n",
       "      <th>fb_followers</th>\n",
       "      <th>twitter_followers</th>\n",
       "      <th>ppp_country</th>\n",
       "    </tr>\n",
       "  </thead>\n",
       "  <tbody>\n",
       "    <tr>\n",
       "      <th>0</th>\n",
       "      <td>47636</td>\n",
       "      <td>57518</td>\n",
       "      <td>42609</td>\n",
       "    </tr>\n",
       "    <tr>\n",
       "      <th>2</th>\n",
       "      <td>2509088</td>\n",
       "      <td>151333</td>\n",
       "      <td>42609</td>\n",
       "    </tr>\n",
       "    <tr>\n",
       "      <th>3</th>\n",
       "      <td>46268</td>\n",
       "      <td>52980</td>\n",
       "      <td>42609</td>\n",
       "    </tr>\n",
       "    <tr>\n",
       "      <th>4</th>\n",
       "      <td>330064</td>\n",
       "      <td>158313</td>\n",
       "      <td>57467</td>\n",
       "    </tr>\n",
       "    <tr>\n",
       "      <th>5</th>\n",
       "      <td>372754</td>\n",
       "      <td>155375</td>\n",
       "      <td>57467</td>\n",
       "    </tr>\n",
       "  </tbody>\n",
       "</table>\n",
       "</div>"
      ],
      "text/plain": [
       "   fb_followers  twitter_followers  ppp_country\n",
       "0         47636              57518        42609\n",
       "2       2509088             151333        42609\n",
       "3         46268              52980        42609\n",
       "4        330064             158313        57467\n",
       "5        372754             155375        57467"
      ]
     },
     "execution_count": 129,
     "metadata": {},
     "output_type": "execute_result"
    }
   ],
   "source": [
    "x = ndata.drop(['name','country','insta_followers'],axis = 1)\n",
    "x.head()"
   ]
  },
  {
   "cell_type": "code",
   "execution_count": 130,
   "metadata": {},
   "outputs": [
    {
     "data": {
      "text/html": [
       "<div>\n",
       "<style scoped>\n",
       "    .dataframe tbody tr th:only-of-type {\n",
       "        vertical-align: middle;\n",
       "    }\n",
       "\n",
       "    .dataframe tbody tr th {\n",
       "        vertical-align: top;\n",
       "    }\n",
       "\n",
       "    .dataframe thead th {\n",
       "        text-align: right;\n",
       "    }\n",
       "</style>\n",
       "<table border=\"1\" class=\"dataframe\">\n",
       "  <thead>\n",
       "    <tr style=\"text-align: right;\">\n",
       "      <th></th>\n",
       "      <th>insta_followers</th>\n",
       "    </tr>\n",
       "  </thead>\n",
       "  <tbody>\n",
       "    <tr>\n",
       "      <th>0</th>\n",
       "      <td>10836</td>\n",
       "    </tr>\n",
       "    <tr>\n",
       "      <th>2</th>\n",
       "      <td>574057</td>\n",
       "    </tr>\n",
       "    <tr>\n",
       "      <th>3</th>\n",
       "      <td>4560</td>\n",
       "    </tr>\n",
       "    <tr>\n",
       "      <th>4</th>\n",
       "      <td>75019</td>\n",
       "    </tr>\n",
       "    <tr>\n",
       "      <th>5</th>\n",
       "      <td>67761</td>\n",
       "    </tr>\n",
       "  </tbody>\n",
       "</table>\n",
       "</div>"
      ],
      "text/plain": [
       "   insta_followers\n",
       "0            10836\n",
       "2           574057\n",
       "3             4560\n",
       "4            75019\n",
       "5            67761"
      ]
     },
     "execution_count": 130,
     "metadata": {},
     "output_type": "execute_result"
    }
   ],
   "source": [
    "y = ndata.drop(['name','country','fb_followers','twitter_followers','ppp_country'],axis = 1)\n",
    "y.head()"
   ]
  },
  {
   "cell_type": "code",
   "execution_count": 142,
   "metadata": {},
   "outputs": [],
   "source": [
    "xtrain, xtest, ytrain, ytest =train_test_split(x,y,test_size=0.50)"
   ]
  },
  {
   "cell_type": "code",
   "execution_count": 143,
   "metadata": {},
   "outputs": [
    {
     "data": {
      "text/plain": [
       "LinearRegression(copy_X=True, fit_intercept=True, n_jobs=1, normalize=False)"
      ]
     },
     "execution_count": 143,
     "metadata": {},
     "output_type": "execute_result"
    }
   ],
   "source": [
    "regressor = LinearRegression()\n",
    "regressor.fit(xtrain, ytrain)"
   ]
  },
  {
   "cell_type": "code",
   "execution_count": 144,
   "metadata": {},
   "outputs": [],
   "source": [
    "y_prediction = regressor.predict(xtest)"
   ]
  },
  {
   "cell_type": "code",
   "execution_count": 145,
   "metadata": {},
   "outputs": [],
   "source": [
    "#y_prediction"
   ]
  },
  {
   "cell_type": "code",
   "execution_count": 146,
   "metadata": {},
   "outputs": [
    {
     "name": "stdout",
     "output_type": "stream",
     "text": [
      "5533826.478538555\n"
     ]
    }
   ],
   "source": [
    "print(np.sqrt(metrics.mean_squared_error(ytest, y_prediction)))"
   ]
  },
  {
   "cell_type": "code",
   "execution_count": 147,
   "metadata": {},
   "outputs": [
    {
     "name": "stdout",
     "output_type": "stream",
     "text": [
      "Variance score: 0.71\n"
     ]
    }
   ],
   "source": [
    "print('Variance score: %.2f' % regressor.score(xtest, ytest))"
   ]
  },
  {
   "cell_type": "code",
   "execution_count": null,
   "metadata": {},
   "outputs": [],
   "source": []
  }
 ],
 "metadata": {
  "kernelspec": {
   "display_name": "Python 3",
   "language": "python",
   "name": "python3"
  },
  "language_info": {
   "codemirror_mode": {
    "name": "ipython",
    "version": 3
   },
   "file_extension": ".py",
   "mimetype": "text/x-python",
   "name": "python",
   "nbconvert_exporter": "python",
   "pygments_lexer": "ipython3",
   "version": "3.5.2"
  }
 },
 "nbformat": 4,
 "nbformat_minor": 2
}
